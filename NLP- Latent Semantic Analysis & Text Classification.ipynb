{
 "cells": [
  {
   "cell_type": "code",
   "execution_count": 4,
   "id": "5f42cc7e",
   "metadata": {},
   "outputs": [
    {
     "data": {
      "text/html": [
       "<div>\n",
       "<style scoped>\n",
       "    .dataframe tbody tr th:only-of-type {\n",
       "        vertical-align: middle;\n",
       "    }\n",
       "\n",
       "    .dataframe tbody tr th {\n",
       "        vertical-align: top;\n",
       "    }\n",
       "\n",
       "    .dataframe thead th {\n",
       "        text-align: right;\n",
       "    }\n",
       "</style>\n",
       "<table border=\"1\" class=\"dataframe\">\n",
       "  <thead>\n",
       "    <tr style=\"text-align: right;\">\n",
       "      <th></th>\n",
       "      <th>Unnamed: 0</th>\n",
       "      <th>market_place</th>\n",
       "      <th>customer_id</th>\n",
       "      <th>review_id</th>\n",
       "      <th>product_id</th>\n",
       "      <th>product_parent</th>\n",
       "      <th>product_title</th>\n",
       "      <th>product_category</th>\n",
       "      <th>star_rating</th>\n",
       "      <th>helpful_votes</th>\n",
       "      <th>total_votes</th>\n",
       "      <th>vine</th>\n",
       "      <th>verified_purchase</th>\n",
       "      <th>review_headline</th>\n",
       "      <th>review_body</th>\n",
       "      <th>review_date</th>\n",
       "      <th>Sentiment_ebook</th>\n",
       "    </tr>\n",
       "  </thead>\n",
       "  <tbody>\n",
       "    <tr>\n",
       "      <th>0</th>\n",
       "      <td>0</td>\n",
       "      <td>\"US\"</td>\n",
       "      <td>\"33605939\"</td>\n",
       "      <td>\"RGYFDX8QXKEIR\"</td>\n",
       "      <td>\"B007KO2MLO\"</td>\n",
       "      <td>\"328837464\"</td>\n",
       "      <td>\"Big Maria\"</td>\n",
       "      <td>\"Digital_Ebook_Purchase\"</td>\n",
       "      <td>1</td>\n",
       "      <td>0</td>\n",
       "      <td>0</td>\n",
       "      <td>0 \\t(N)</td>\n",
       "      <td>0 \\t(N)</td>\n",
       "      <td>\"Quirky\"</td>\n",
       "      <td>\"Elmore Leonard meets the cast of Sierra Madre...</td>\n",
       "      <td>2013-09-09</td>\n",
       "      <td>positive</td>\n",
       "    </tr>\n",
       "    <tr>\n",
       "      <th>1</th>\n",
       "      <td>1</td>\n",
       "      <td>\"US\"</td>\n",
       "      <td>\"34058393\"</td>\n",
       "      <td>\"R13CBGTMNV9R8Z\"</td>\n",
       "      <td>\"B005FLODDE\"</td>\n",
       "      <td>\"764276359\"</td>\n",
       "      <td>\"The Woman Who Wasn't There: The True Story of...</td>\n",
       "      <td>\"Digital_Ebook_Purchase\"</td>\n",
       "      <td>1</td>\n",
       "      <td>1</td>\n",
       "      <td>2</td>\n",
       "      <td>0 \\t(N)</td>\n",
       "      <td>1 \\t(Y)</td>\n",
       "      <td>\"The Woman Who Wasn't There\"</td>\n",
       "      <td>\"This book was very interesting. It is a true ...</td>\n",
       "      <td>2013-09-09</td>\n",
       "      <td>positive</td>\n",
       "    </tr>\n",
       "    <tr>\n",
       "      <th>2</th>\n",
       "      <td>2</td>\n",
       "      <td>\"US\"</td>\n",
       "      <td>\"39601147\"</td>\n",
       "      <td>\"R7DRFHC0F71O0\"</td>\n",
       "      <td>\"B00EA3L35O\"</td>\n",
       "      <td>\"535606445\"</td>\n",
       "      <td>\"Mary had A Sleepy Sheep\"</td>\n",
       "      <td>\"Digital_Ebook_Purchase\"</td>\n",
       "      <td>1</td>\n",
       "      <td>0</td>\n",
       "      <td>0</td>\n",
       "      <td>0 \\t(N)</td>\n",
       "      <td>0 \\t(N)</td>\n",
       "      <td>\"This Sleepy Sheep rocks!\"</td>\n",
       "      <td>\"I had the opportunity to review Mary had a Sl...</td>\n",
       "      <td>2013-09-09</td>\n",
       "      <td>positive</td>\n",
       "    </tr>\n",
       "    <tr>\n",
       "      <th>3</th>\n",
       "      <td>3</td>\n",
       "      <td>\"US\"</td>\n",
       "      <td>\"17351407\"</td>\n",
       "      <td>\"R27LUKEXU3KBXQ\"</td>\n",
       "      <td>\"B00BL3JV50\"</td>\n",
       "      <td>\"240053004\"</td>\n",
       "      <td>\"Starstruck\"</td>\n",
       "      <td>\"Digital_Ebook_Purchase\"</td>\n",
       "      <td>1</td>\n",
       "      <td>1</td>\n",
       "      <td>1</td>\n",
       "      <td>0 \\t(N)</td>\n",
       "      <td>1 \\t(Y)</td>\n",
       "      <td>\"Steamy and suspenseful!!!!!\"</td>\n",
       "      <td>\"What a great read! I really couldn't put this...</td>\n",
       "      <td>2013-09-09</td>\n",
       "      <td>positive</td>\n",
       "    </tr>\n",
       "    <tr>\n",
       "      <th>4</th>\n",
       "      <td>4</td>\n",
       "      <td>\"US\"</td>\n",
       "      <td>\"10463387\"</td>\n",
       "      <td>\"R1VXTPUYMNU687\"</td>\n",
       "      <td>\"B00CXU7U80\"</td>\n",
       "      <td>\"931529805\"</td>\n",
       "      <td>\"The Complete Conan Saga\"</td>\n",
       "      <td>\"Digital_Ebook_Purchase\"</td>\n",
       "      <td>1</td>\n",
       "      <td>1</td>\n",
       "      <td>2</td>\n",
       "      <td>0 \\t(N)</td>\n",
       "      <td>0 \\t(N)</td>\n",
       "      <td>\"Barbarians\"</td>\n",
       "      <td>\"Barbarians need love too ! Short stories work...</td>\n",
       "      <td>2013-09-09</td>\n",
       "      <td>positive</td>\n",
       "    </tr>\n",
       "  </tbody>\n",
       "</table>\n",
       "</div>"
      ],
      "text/plain": [
       "   Unnamed: 0 market_place customer_id         review_id    product_id  \\\n",
       "0           0         \"US\"  \"33605939\"   \"RGYFDX8QXKEIR\"  \"B007KO2MLO\"   \n",
       "1           1         \"US\"  \"34058393\"  \"R13CBGTMNV9R8Z\"  \"B005FLODDE\"   \n",
       "2           2         \"US\"  \"39601147\"   \"R7DRFHC0F71O0\"  \"B00EA3L35O\"   \n",
       "3           3         \"US\"  \"17351407\"  \"R27LUKEXU3KBXQ\"  \"B00BL3JV50\"   \n",
       "4           4         \"US\"  \"10463387\"  \"R1VXTPUYMNU687\"  \"B00CXU7U80\"   \n",
       "\n",
       "  product_parent                                      product_title  \\\n",
       "0    \"328837464\"                                        \"Big Maria\"   \n",
       "1    \"764276359\"  \"The Woman Who Wasn't There: The True Story of...   \n",
       "2    \"535606445\"                          \"Mary had A Sleepy Sheep\"   \n",
       "3    \"240053004\"                                       \"Starstruck\"   \n",
       "4    \"931529805\"                          \"The Complete Conan Saga\"   \n",
       "\n",
       "           product_category  star_rating  helpful_votes  total_votes     vine  \\\n",
       "0  \"Digital_Ebook_Purchase\"            1              0            0  0 \\t(N)   \n",
       "1  \"Digital_Ebook_Purchase\"            1              1            2  0 \\t(N)   \n",
       "2  \"Digital_Ebook_Purchase\"            1              0            0  0 \\t(N)   \n",
       "3  \"Digital_Ebook_Purchase\"            1              1            1  0 \\t(N)   \n",
       "4  \"Digital_Ebook_Purchase\"            1              1            2  0 \\t(N)   \n",
       "\n",
       "  verified_purchase                review_headline  \\\n",
       "0           0 \\t(N)                       \"Quirky\"   \n",
       "1           1 \\t(Y)   \"The Woman Who Wasn't There\"   \n",
       "2           0 \\t(N)     \"This Sleepy Sheep rocks!\"   \n",
       "3           1 \\t(Y)  \"Steamy and suspenseful!!!!!\"   \n",
       "4           0 \\t(N)                   \"Barbarians\"   \n",
       "\n",
       "                                         review_body review_date  \\\n",
       "0  \"Elmore Leonard meets the cast of Sierra Madre...  2013-09-09   \n",
       "1  \"This book was very interesting. It is a true ...  2013-09-09   \n",
       "2  \"I had the opportunity to review Mary had a Sl...  2013-09-09   \n",
       "3  \"What a great read! I really couldn't put this...  2013-09-09   \n",
       "4  \"Barbarians need love too ! Short stories work...  2013-09-09   \n",
       "\n",
       "  Sentiment_ebook  \n",
       "0        positive  \n",
       "1        positive  \n",
       "2        positive  \n",
       "3        positive  \n",
       "4        positive  "
      ]
     },
     "execution_count": 4,
     "metadata": {},
     "output_type": "execute_result"
    }
   ],
   "source": [
    "import numpy as np \n",
    "import pandas as pd\n",
    "import matplotlib.pyplot as plt\n",
    "import seaborn as sns\n",
    "%matplotlib inline \n",
    "import os\n",
    "import warnings\n",
    "\n",
    "warnings.filterwarnings('ignore')\n",
    "\n",
    "df=pd.read_csv('/Users/mubinaarastu/Machine Learning Models/Dataset/amazon_ebook_Data.csv')\n",
    "df.head()"
   ]
  },
  {
   "cell_type": "code",
   "execution_count": 5,
   "id": "22a2155d",
   "metadata": {},
   "outputs": [
    {
     "data": {
      "text/plain": [
       "Unnamed: 0           0\n",
       "market_place         0\n",
       "customer_id          0\n",
       "review_id            0\n",
       "product_id           0\n",
       "product_parent       0\n",
       "product_title        0\n",
       "product_category     0\n",
       "star_rating          0\n",
       "helpful_votes        0\n",
       "total_votes          0\n",
       "vine                 0\n",
       "verified_purchase    0\n",
       "review_headline      0\n",
       "review_body          0\n",
       "review_date          0\n",
       "Sentiment_ebook      0\n",
       "dtype: int64"
      ]
     },
     "execution_count": 5,
     "metadata": {},
     "output_type": "execute_result"
    }
   ],
   "source": [
    "df.isnull().sum()"
   ]
  },
  {
   "cell_type": "code",
   "execution_count": 6,
   "id": "f4bb3964",
   "metadata": {},
   "outputs": [
    {
     "data": {
      "text/plain": [
       "array([1, 0])"
      ]
     },
     "execution_count": 6,
     "metadata": {},
     "output_type": "execute_result"
    }
   ],
   "source": [
    "df.star_rating.unique()"
   ]
  },
  {
   "cell_type": "code",
   "execution_count": 9,
   "id": "965db965",
   "metadata": {},
   "outputs": [
    {
     "data": {
      "text/plain": [
       "array(['positive', 'negaitve'], dtype=object)"
      ]
     },
     "execution_count": 9,
     "metadata": {},
     "output_type": "execute_result"
    }
   ],
   "source": [
    "df.Sentiment_ebook.unique()"
   ]
  },
  {
   "cell_type": "code",
   "execution_count": 13,
   "id": "8a779da2",
   "metadata": {},
   "outputs": [],
   "source": [
    "df['PositivelyRated']=np.where(df.Sentiment_ebook=='positive',1,0)"
   ]
  },
  {
   "cell_type": "code",
   "execution_count": 14,
   "id": "26b7d40b",
   "metadata": {},
   "outputs": [
    {
     "data": {
      "text/html": [
       "<div>\n",
       "<style scoped>\n",
       "    .dataframe tbody tr th:only-of-type {\n",
       "        vertical-align: middle;\n",
       "    }\n",
       "\n",
       "    .dataframe tbody tr th {\n",
       "        vertical-align: top;\n",
       "    }\n",
       "\n",
       "    .dataframe thead th {\n",
       "        text-align: right;\n",
       "    }\n",
       "</style>\n",
       "<table border=\"1\" class=\"dataframe\">\n",
       "  <thead>\n",
       "    <tr style=\"text-align: right;\">\n",
       "      <th></th>\n",
       "      <th>Unnamed: 0</th>\n",
       "      <th>market_place</th>\n",
       "      <th>customer_id</th>\n",
       "      <th>review_id</th>\n",
       "      <th>product_id</th>\n",
       "      <th>product_parent</th>\n",
       "      <th>product_title</th>\n",
       "      <th>product_category</th>\n",
       "      <th>star_rating</th>\n",
       "      <th>helpful_votes</th>\n",
       "      <th>total_votes</th>\n",
       "      <th>vine</th>\n",
       "      <th>verified_purchase</th>\n",
       "      <th>review_headline</th>\n",
       "      <th>review_body</th>\n",
       "      <th>review_date</th>\n",
       "      <th>Sentiment_ebook</th>\n",
       "      <th>PositivelyRated</th>\n",
       "    </tr>\n",
       "  </thead>\n",
       "  <tbody>\n",
       "    <tr>\n",
       "      <th>0</th>\n",
       "      <td>0</td>\n",
       "      <td>\"US\"</td>\n",
       "      <td>\"33605939\"</td>\n",
       "      <td>\"RGYFDX8QXKEIR\"</td>\n",
       "      <td>\"B007KO2MLO\"</td>\n",
       "      <td>\"328837464\"</td>\n",
       "      <td>\"Big Maria\"</td>\n",
       "      <td>\"Digital_Ebook_Purchase\"</td>\n",
       "      <td>1</td>\n",
       "      <td>0</td>\n",
       "      <td>0</td>\n",
       "      <td>0 \\t(N)</td>\n",
       "      <td>0 \\t(N)</td>\n",
       "      <td>\"Quirky\"</td>\n",
       "      <td>\"Elmore Leonard meets the cast of Sierra Madre...</td>\n",
       "      <td>2013-09-09</td>\n",
       "      <td>positive</td>\n",
       "      <td>1</td>\n",
       "    </tr>\n",
       "    <tr>\n",
       "      <th>1</th>\n",
       "      <td>1</td>\n",
       "      <td>\"US\"</td>\n",
       "      <td>\"34058393\"</td>\n",
       "      <td>\"R13CBGTMNV9R8Z\"</td>\n",
       "      <td>\"B005FLODDE\"</td>\n",
       "      <td>\"764276359\"</td>\n",
       "      <td>\"The Woman Who Wasn't There: The True Story of...</td>\n",
       "      <td>\"Digital_Ebook_Purchase\"</td>\n",
       "      <td>1</td>\n",
       "      <td>1</td>\n",
       "      <td>2</td>\n",
       "      <td>0 \\t(N)</td>\n",
       "      <td>1 \\t(Y)</td>\n",
       "      <td>\"The Woman Who Wasn't There\"</td>\n",
       "      <td>\"This book was very interesting. It is a true ...</td>\n",
       "      <td>2013-09-09</td>\n",
       "      <td>positive</td>\n",
       "      <td>1</td>\n",
       "    </tr>\n",
       "    <tr>\n",
       "      <th>2</th>\n",
       "      <td>2</td>\n",
       "      <td>\"US\"</td>\n",
       "      <td>\"39601147\"</td>\n",
       "      <td>\"R7DRFHC0F71O0\"</td>\n",
       "      <td>\"B00EA3L35O\"</td>\n",
       "      <td>\"535606445\"</td>\n",
       "      <td>\"Mary had A Sleepy Sheep\"</td>\n",
       "      <td>\"Digital_Ebook_Purchase\"</td>\n",
       "      <td>1</td>\n",
       "      <td>0</td>\n",
       "      <td>0</td>\n",
       "      <td>0 \\t(N)</td>\n",
       "      <td>0 \\t(N)</td>\n",
       "      <td>\"This Sleepy Sheep rocks!\"</td>\n",
       "      <td>\"I had the opportunity to review Mary had a Sl...</td>\n",
       "      <td>2013-09-09</td>\n",
       "      <td>positive</td>\n",
       "      <td>1</td>\n",
       "    </tr>\n",
       "    <tr>\n",
       "      <th>3</th>\n",
       "      <td>3</td>\n",
       "      <td>\"US\"</td>\n",
       "      <td>\"17351407\"</td>\n",
       "      <td>\"R27LUKEXU3KBXQ\"</td>\n",
       "      <td>\"B00BL3JV50\"</td>\n",
       "      <td>\"240053004\"</td>\n",
       "      <td>\"Starstruck\"</td>\n",
       "      <td>\"Digital_Ebook_Purchase\"</td>\n",
       "      <td>1</td>\n",
       "      <td>1</td>\n",
       "      <td>1</td>\n",
       "      <td>0 \\t(N)</td>\n",
       "      <td>1 \\t(Y)</td>\n",
       "      <td>\"Steamy and suspenseful!!!!!\"</td>\n",
       "      <td>\"What a great read! I really couldn't put this...</td>\n",
       "      <td>2013-09-09</td>\n",
       "      <td>positive</td>\n",
       "      <td>1</td>\n",
       "    </tr>\n",
       "    <tr>\n",
       "      <th>4</th>\n",
       "      <td>4</td>\n",
       "      <td>\"US\"</td>\n",
       "      <td>\"10463387\"</td>\n",
       "      <td>\"R1VXTPUYMNU687\"</td>\n",
       "      <td>\"B00CXU7U80\"</td>\n",
       "      <td>\"931529805\"</td>\n",
       "      <td>\"The Complete Conan Saga\"</td>\n",
       "      <td>\"Digital_Ebook_Purchase\"</td>\n",
       "      <td>1</td>\n",
       "      <td>1</td>\n",
       "      <td>2</td>\n",
       "      <td>0 \\t(N)</td>\n",
       "      <td>0 \\t(N)</td>\n",
       "      <td>\"Barbarians\"</td>\n",
       "      <td>\"Barbarians need love too ! Short stories work...</td>\n",
       "      <td>2013-09-09</td>\n",
       "      <td>positive</td>\n",
       "      <td>1</td>\n",
       "    </tr>\n",
       "  </tbody>\n",
       "</table>\n",
       "</div>"
      ],
      "text/plain": [
       "   Unnamed: 0 market_place customer_id         review_id    product_id  \\\n",
       "0           0         \"US\"  \"33605939\"   \"RGYFDX8QXKEIR\"  \"B007KO2MLO\"   \n",
       "1           1         \"US\"  \"34058393\"  \"R13CBGTMNV9R8Z\"  \"B005FLODDE\"   \n",
       "2           2         \"US\"  \"39601147\"   \"R7DRFHC0F71O0\"  \"B00EA3L35O\"   \n",
       "3           3         \"US\"  \"17351407\"  \"R27LUKEXU3KBXQ\"  \"B00BL3JV50\"   \n",
       "4           4         \"US\"  \"10463387\"  \"R1VXTPUYMNU687\"  \"B00CXU7U80\"   \n",
       "\n",
       "  product_parent                                      product_title  \\\n",
       "0    \"328837464\"                                        \"Big Maria\"   \n",
       "1    \"764276359\"  \"The Woman Who Wasn't There: The True Story of...   \n",
       "2    \"535606445\"                          \"Mary had A Sleepy Sheep\"   \n",
       "3    \"240053004\"                                       \"Starstruck\"   \n",
       "4    \"931529805\"                          \"The Complete Conan Saga\"   \n",
       "\n",
       "           product_category  star_rating  helpful_votes  total_votes     vine  \\\n",
       "0  \"Digital_Ebook_Purchase\"            1              0            0  0 \\t(N)   \n",
       "1  \"Digital_Ebook_Purchase\"            1              1            2  0 \\t(N)   \n",
       "2  \"Digital_Ebook_Purchase\"            1              0            0  0 \\t(N)   \n",
       "3  \"Digital_Ebook_Purchase\"            1              1            1  0 \\t(N)   \n",
       "4  \"Digital_Ebook_Purchase\"            1              1            2  0 \\t(N)   \n",
       "\n",
       "  verified_purchase                review_headline  \\\n",
       "0           0 \\t(N)                       \"Quirky\"   \n",
       "1           1 \\t(Y)   \"The Woman Who Wasn't There\"   \n",
       "2           0 \\t(N)     \"This Sleepy Sheep rocks!\"   \n",
       "3           1 \\t(Y)  \"Steamy and suspenseful!!!!!\"   \n",
       "4           0 \\t(N)                   \"Barbarians\"   \n",
       "\n",
       "                                         review_body review_date  \\\n",
       "0  \"Elmore Leonard meets the cast of Sierra Madre...  2013-09-09   \n",
       "1  \"This book was very interesting. It is a true ...  2013-09-09   \n",
       "2  \"I had the opportunity to review Mary had a Sl...  2013-09-09   \n",
       "3  \"What a great read! I really couldn't put this...  2013-09-09   \n",
       "4  \"Barbarians need love too ! Short stories work...  2013-09-09   \n",
       "\n",
       "  Sentiment_ebook  PositivelyRated  \n",
       "0        positive                1  \n",
       "1        positive                1  \n",
       "2        positive                1  \n",
       "3        positive                1  \n",
       "4        positive                1  "
      ]
     },
     "execution_count": 14,
     "metadata": {},
     "output_type": "execute_result"
    }
   ],
   "source": [
    "df.head()"
   ]
  },
  {
   "cell_type": "code",
   "execution_count": 17,
   "id": "e81f02fe",
   "metadata": {},
   "outputs": [],
   "source": [
    "from sklearn.model_selection import train_test_split\n",
    "xtrain,xtest,ytrain,ytest=train_test_split(df['review_body'],df['PositivelyRated'],random_state=0)"
   ]
  },
  {
   "cell_type": "code",
   "execution_count": 19,
   "id": "6c621c64",
   "metadata": {},
   "outputs": [
    {
     "data": {
      "text/plain": [
       "(75,)"
      ]
     },
     "execution_count": 19,
     "metadata": {},
     "output_type": "execute_result"
    }
   ],
   "source": [
    "xtrain.shape"
   ]
  },
  {
   "cell_type": "code",
   "execution_count": 20,
   "id": "5d3b4893",
   "metadata": {},
   "outputs": [
    {
     "data": {
      "text/plain": [
       "(25,)"
      ]
     },
     "execution_count": 20,
     "metadata": {},
     "output_type": "execute_result"
    }
   ],
   "source": [
    "xtest.shape"
   ]
  },
  {
   "cell_type": "code",
   "execution_count": 28,
   "id": "ac597351",
   "metadata": {},
   "outputs": [
    {
     "data": {
      "text/html": [
       "<style>#sk-container-id-2 {color: black;background-color: white;}#sk-container-id-2 pre{padding: 0;}#sk-container-id-2 div.sk-toggleable {background-color: white;}#sk-container-id-2 label.sk-toggleable__label {cursor: pointer;display: block;width: 100%;margin-bottom: 0;padding: 0.3em;box-sizing: border-box;text-align: center;}#sk-container-id-2 label.sk-toggleable__label-arrow:before {content: \"▸\";float: left;margin-right: 0.25em;color: #696969;}#sk-container-id-2 label.sk-toggleable__label-arrow:hover:before {color: black;}#sk-container-id-2 div.sk-estimator:hover label.sk-toggleable__label-arrow:before {color: black;}#sk-container-id-2 div.sk-toggleable__content {max-height: 0;max-width: 0;overflow: hidden;text-align: left;background-color: #f0f8ff;}#sk-container-id-2 div.sk-toggleable__content pre {margin: 0.2em;color: black;border-radius: 0.25em;background-color: #f0f8ff;}#sk-container-id-2 input.sk-toggleable__control:checked~div.sk-toggleable__content {max-height: 200px;max-width: 100%;overflow: auto;}#sk-container-id-2 input.sk-toggleable__control:checked~label.sk-toggleable__label-arrow:before {content: \"▾\";}#sk-container-id-2 div.sk-estimator input.sk-toggleable__control:checked~label.sk-toggleable__label {background-color: #d4ebff;}#sk-container-id-2 div.sk-label input.sk-toggleable__control:checked~label.sk-toggleable__label {background-color: #d4ebff;}#sk-container-id-2 input.sk-hidden--visually {border: 0;clip: rect(1px 1px 1px 1px);clip: rect(1px, 1px, 1px, 1px);height: 1px;margin: -1px;overflow: hidden;padding: 0;position: absolute;width: 1px;}#sk-container-id-2 div.sk-estimator {font-family: monospace;background-color: #f0f8ff;border: 1px dotted black;border-radius: 0.25em;box-sizing: border-box;margin-bottom: 0.5em;}#sk-container-id-2 div.sk-estimator:hover {background-color: #d4ebff;}#sk-container-id-2 div.sk-parallel-item::after {content: \"\";width: 100%;border-bottom: 1px solid gray;flex-grow: 1;}#sk-container-id-2 div.sk-label:hover label.sk-toggleable__label {background-color: #d4ebff;}#sk-container-id-2 div.sk-serial::before {content: \"\";position: absolute;border-left: 1px solid gray;box-sizing: border-box;top: 0;bottom: 0;left: 50%;z-index: 0;}#sk-container-id-2 div.sk-serial {display: flex;flex-direction: column;align-items: center;background-color: white;padding-right: 0.2em;padding-left: 0.2em;position: relative;}#sk-container-id-2 div.sk-item {position: relative;z-index: 1;}#sk-container-id-2 div.sk-parallel {display: flex;align-items: stretch;justify-content: center;background-color: white;position: relative;}#sk-container-id-2 div.sk-item::before, #sk-container-id-2 div.sk-parallel-item::before {content: \"\";position: absolute;border-left: 1px solid gray;box-sizing: border-box;top: 0;bottom: 0;left: 50%;z-index: -1;}#sk-container-id-2 div.sk-parallel-item {display: flex;flex-direction: column;z-index: 1;position: relative;background-color: white;}#sk-container-id-2 div.sk-parallel-item:first-child::after {align-self: flex-end;width: 50%;}#sk-container-id-2 div.sk-parallel-item:last-child::after {align-self: flex-start;width: 50%;}#sk-container-id-2 div.sk-parallel-item:only-child::after {width: 0;}#sk-container-id-2 div.sk-dashed-wrapped {border: 1px dashed gray;margin: 0 0.4em 0.5em 0.4em;box-sizing: border-box;padding-bottom: 0.4em;background-color: white;}#sk-container-id-2 div.sk-label label {font-family: monospace;font-weight: bold;display: inline-block;line-height: 1.2em;}#sk-container-id-2 div.sk-label-container {text-align: center;}#sk-container-id-2 div.sk-container {/* jupyter's `normalize.less` sets `[hidden] { display: none; }` but bootstrap.min.css set `[hidden] { display: none !important; }` so we also need the `!important` here to be able to override the default hidden behavior on the sphinx rendered scikit-learn.org. See: https://github.com/scikit-learn/scikit-learn/issues/21755 */display: inline-block !important;position: relative;}#sk-container-id-2 div.sk-text-repr-fallback {display: none;}</style><div id=\"sk-container-id-2\" class=\"sk-top-container\"><div class=\"sk-text-repr-fallback\"><pre>CountVectorizer()</pre><b>In a Jupyter environment, please rerun this cell to show the HTML representation or trust the notebook. <br />On GitHub, the HTML representation is unable to render, please try loading this page with nbviewer.org.</b></div><div class=\"sk-container\" hidden><div class=\"sk-item\"><div class=\"sk-estimator sk-toggleable\"><input class=\"sk-toggleable__control sk-hidden--visually\" id=\"sk-estimator-id-2\" type=\"checkbox\" checked><label for=\"sk-estimator-id-2\" class=\"sk-toggleable__label sk-toggleable__label-arrow\">CountVectorizer</label><div class=\"sk-toggleable__content\"><pre>CountVectorizer()</pre></div></div></div></div></div>"
      ],
      "text/plain": [
       "CountVectorizer()"
      ]
     },
     "execution_count": 28,
     "metadata": {},
     "output_type": "execute_result"
    }
   ],
   "source": [
    "##Count Vectorize\n",
    "from sklearn.feature_extraction.text import CountVectorizer\n",
    "vect=CountVectorizer().fit(xtrain)\n",
    "vect"
   ]
  },
  {
   "cell_type": "code",
   "execution_count": 31,
   "id": "4732c6c6",
   "metadata": {},
   "outputs": [
    {
     "data": {
      "text/plain": [
       "array(['10', 'adventure', 'anita', 'auditioning', 'bed', 'both', 'cant',\n",
       "       'chose', 'completely', 'curriculum', 'depth', 'discover',\n",
       "       'education', 'erica', 'face', 'figuring', 'friend', 'going',\n",
       "       'happened', 'hi', 'humor', 'insight', 'job', 'laughed', 'live',\n",
       "       'man', 'mile', 'near', 'offer', 'oven', 'pertinent', 'previously',\n",
       "       'quirky', 'reflection', 'rogue', 'sebastian', 'shattered',\n",
       "       'smiling', 'starts', 'supportive', 'than', 'throws', 'tris', 'up',\n",
       "       'watch', 'wings', 'year'], dtype=object)"
      ]
     },
     "execution_count": 31,
     "metadata": {},
     "output_type": "execute_result"
    }
   ],
   "source": [
    "vect.get_feature_names_out()[::30]"
   ]
  },
  {
   "cell_type": "code",
   "execution_count": 32,
   "id": "7d43654c",
   "metadata": {},
   "outputs": [
    {
     "data": {
      "text/plain": [
       "<75x1389 sparse matrix of type '<class 'numpy.int64'>'\n",
       "\twith 3502 stored elements in Compressed Sparse Row format>"
      ]
     },
     "execution_count": 32,
     "metadata": {},
     "output_type": "execute_result"
    }
   ],
   "source": [
    "## transform training data to a documnet matrix\n",
    "x_train_vector=vect.transform(xtrain)\n",
    "x_train_vector"
   ]
  },
  {
   "cell_type": "code",
   "execution_count": 34,
   "id": "27ba4f90",
   "metadata": {},
   "outputs": [
    {
     "data": {
      "text/html": [
       "<style>#sk-container-id-3 {color: black;background-color: white;}#sk-container-id-3 pre{padding: 0;}#sk-container-id-3 div.sk-toggleable {background-color: white;}#sk-container-id-3 label.sk-toggleable__label {cursor: pointer;display: block;width: 100%;margin-bottom: 0;padding: 0.3em;box-sizing: border-box;text-align: center;}#sk-container-id-3 label.sk-toggleable__label-arrow:before {content: \"▸\";float: left;margin-right: 0.25em;color: #696969;}#sk-container-id-3 label.sk-toggleable__label-arrow:hover:before {color: black;}#sk-container-id-3 div.sk-estimator:hover label.sk-toggleable__label-arrow:before {color: black;}#sk-container-id-3 div.sk-toggleable__content {max-height: 0;max-width: 0;overflow: hidden;text-align: left;background-color: #f0f8ff;}#sk-container-id-3 div.sk-toggleable__content pre {margin: 0.2em;color: black;border-radius: 0.25em;background-color: #f0f8ff;}#sk-container-id-3 input.sk-toggleable__control:checked~div.sk-toggleable__content {max-height: 200px;max-width: 100%;overflow: auto;}#sk-container-id-3 input.sk-toggleable__control:checked~label.sk-toggleable__label-arrow:before {content: \"▾\";}#sk-container-id-3 div.sk-estimator input.sk-toggleable__control:checked~label.sk-toggleable__label {background-color: #d4ebff;}#sk-container-id-3 div.sk-label input.sk-toggleable__control:checked~label.sk-toggleable__label {background-color: #d4ebff;}#sk-container-id-3 input.sk-hidden--visually {border: 0;clip: rect(1px 1px 1px 1px);clip: rect(1px, 1px, 1px, 1px);height: 1px;margin: -1px;overflow: hidden;padding: 0;position: absolute;width: 1px;}#sk-container-id-3 div.sk-estimator {font-family: monospace;background-color: #f0f8ff;border: 1px dotted black;border-radius: 0.25em;box-sizing: border-box;margin-bottom: 0.5em;}#sk-container-id-3 div.sk-estimator:hover {background-color: #d4ebff;}#sk-container-id-3 div.sk-parallel-item::after {content: \"\";width: 100%;border-bottom: 1px solid gray;flex-grow: 1;}#sk-container-id-3 div.sk-label:hover label.sk-toggleable__label {background-color: #d4ebff;}#sk-container-id-3 div.sk-serial::before {content: \"\";position: absolute;border-left: 1px solid gray;box-sizing: border-box;top: 0;bottom: 0;left: 50%;z-index: 0;}#sk-container-id-3 div.sk-serial {display: flex;flex-direction: column;align-items: center;background-color: white;padding-right: 0.2em;padding-left: 0.2em;position: relative;}#sk-container-id-3 div.sk-item {position: relative;z-index: 1;}#sk-container-id-3 div.sk-parallel {display: flex;align-items: stretch;justify-content: center;background-color: white;position: relative;}#sk-container-id-3 div.sk-item::before, #sk-container-id-3 div.sk-parallel-item::before {content: \"\";position: absolute;border-left: 1px solid gray;box-sizing: border-box;top: 0;bottom: 0;left: 50%;z-index: -1;}#sk-container-id-3 div.sk-parallel-item {display: flex;flex-direction: column;z-index: 1;position: relative;background-color: white;}#sk-container-id-3 div.sk-parallel-item:first-child::after {align-self: flex-end;width: 50%;}#sk-container-id-3 div.sk-parallel-item:last-child::after {align-self: flex-start;width: 50%;}#sk-container-id-3 div.sk-parallel-item:only-child::after {width: 0;}#sk-container-id-3 div.sk-dashed-wrapped {border: 1px dashed gray;margin: 0 0.4em 0.5em 0.4em;box-sizing: border-box;padding-bottom: 0.4em;background-color: white;}#sk-container-id-3 div.sk-label label {font-family: monospace;font-weight: bold;display: inline-block;line-height: 1.2em;}#sk-container-id-3 div.sk-label-container {text-align: center;}#sk-container-id-3 div.sk-container {/* jupyter's `normalize.less` sets `[hidden] { display: none; }` but bootstrap.min.css set `[hidden] { display: none !important; }` so we also need the `!important` here to be able to override the default hidden behavior on the sphinx rendered scikit-learn.org. See: https://github.com/scikit-learn/scikit-learn/issues/21755 */display: inline-block !important;position: relative;}#sk-container-id-3 div.sk-text-repr-fallback {display: none;}</style><div id=\"sk-container-id-3\" class=\"sk-top-container\"><div class=\"sk-text-repr-fallback\"><pre>LogisticRegression()</pre><b>In a Jupyter environment, please rerun this cell to show the HTML representation or trust the notebook. <br />On GitHub, the HTML representation is unable to render, please try loading this page with nbviewer.org.</b></div><div class=\"sk-container\" hidden><div class=\"sk-item\"><div class=\"sk-estimator sk-toggleable\"><input class=\"sk-toggleable__control sk-hidden--visually\" id=\"sk-estimator-id-3\" type=\"checkbox\" checked><label for=\"sk-estimator-id-3\" class=\"sk-toggleable__label sk-toggleable__label-arrow\">LogisticRegression</label><div class=\"sk-toggleable__content\"><pre>LogisticRegression()</pre></div></div></div></div></div>"
      ],
      "text/plain": [
       "LogisticRegression()"
      ]
     },
     "execution_count": 34,
     "metadata": {},
     "output_type": "execute_result"
    }
   ],
   "source": [
    "from sklearn.linear_model import LogisticRegression\n",
    "model= LogisticRegression()\n",
    "model.fit(x_train_vector,ytrain)"
   ]
  },
  {
   "cell_type": "code",
   "execution_count": 35,
   "id": "42cdba24",
   "metadata": {},
   "outputs": [
    {
     "name": "stdout",
     "output_type": "stream",
     "text": [
      "AUC Score 0.7\n"
     ]
    }
   ],
   "source": [
    "from sklearn.metrics import roc_auc_score\n",
    "prediction=model.predict(vect.transform(xtest))\n",
    "print(\"AUC Score\", roc_auc_score(ytest,prediction))\n"
   ]
  },
  {
   "cell_type": "code",
   "execution_count": 37,
   "id": "2c2434d0",
   "metadata": {},
   "outputs": [
    {
     "name": "stdout",
     "output_type": "stream",
     "text": [
      "smallest coeff: \n",
      "['is' 'what' 'the' 'didn' 'this' 'not' '34' 'us' 'its' 'we']\n",
      "\n",
      "largest coeff: \n",
      "['and' 'read' 'great' 'my' 'his' 'like' 'love' 'that' 'series'\n",
      " 'characters']\n",
      "\n"
     ]
    }
   ],
   "source": [
    "## get the feature store\n",
    "features= np.array(vect.get_feature_names_out())\n",
    "\n",
    "##sort the coeffecients of teh model\n",
    "sort= model.coef_[0].argsort()\n",
    "print('smallest coeff: \\n{}\\n'.format(features[sort[:10]]))\n",
    "print('largest coeff: \\n{}\\n'.format(features[sort[:-11:-1]]))"
   ]
  },
  {
   "cell_type": "markdown",
   "id": "3ba7c7ae",
   "metadata": {},
   "source": [
    "## TFIDF"
   ]
  },
  {
   "cell_type": "code",
   "execution_count": 39,
   "id": "7231d42b",
   "metadata": {},
   "outputs": [
    {
     "data": {
      "text/plain": [
       "145"
      ]
     },
     "execution_count": 39,
     "metadata": {},
     "output_type": "execute_result"
    }
   ],
   "source": [
    "from sklearn.feature_extraction.text import TfidfVectorizer\n",
    "##let's fit the tfidf vectorixer to the training data specifying a minkimum documnet frequency of 5 \n",
    "vect= TfidfVectorizer(min_df=5).fit(xtrain)\n",
    "len(vect.get_feature_names_out())"
   ]
  },
  {
   "cell_type": "code",
   "execution_count": 41,
   "id": "8c4f27f0",
   "metadata": {},
   "outputs": [
    {
     "data": {
      "text/plain": [
       "array(['about', 'did', 'interesting', 'out', 'times'], dtype=object)"
      ]
     },
     "execution_count": 41,
     "metadata": {},
     "output_type": "execute_result"
    }
   ],
   "source": [
    "vect.get_feature_names_out()[::30]"
   ]
  },
  {
   "cell_type": "code",
   "execution_count": 42,
   "id": "63ff1432",
   "metadata": {},
   "outputs": [
    {
     "data": {
      "text/plain": [
       "<75x145 sparse matrix of type '<class 'numpy.float64'>'\n",
       "\twith 1805 stored elements in Compressed Sparse Row format>"
      ]
     },
     "execution_count": 42,
     "metadata": {},
     "output_type": "execute_result"
    }
   ],
   "source": [
    "## let's transform training data to a documnet matrix\n",
    "x_train_vector=vect.transform(xtrain)\n",
    "x_train_vector"
   ]
  },
  {
   "cell_type": "code",
   "execution_count": 43,
   "id": "c54bfa7c",
   "metadata": {},
   "outputs": [
    {
     "data": {
      "text/html": [
       "<style>#sk-container-id-5 {color: black;background-color: white;}#sk-container-id-5 pre{padding: 0;}#sk-container-id-5 div.sk-toggleable {background-color: white;}#sk-container-id-5 label.sk-toggleable__label {cursor: pointer;display: block;width: 100%;margin-bottom: 0;padding: 0.3em;box-sizing: border-box;text-align: center;}#sk-container-id-5 label.sk-toggleable__label-arrow:before {content: \"▸\";float: left;margin-right: 0.25em;color: #696969;}#sk-container-id-5 label.sk-toggleable__label-arrow:hover:before {color: black;}#sk-container-id-5 div.sk-estimator:hover label.sk-toggleable__label-arrow:before {color: black;}#sk-container-id-5 div.sk-toggleable__content {max-height: 0;max-width: 0;overflow: hidden;text-align: left;background-color: #f0f8ff;}#sk-container-id-5 div.sk-toggleable__content pre {margin: 0.2em;color: black;border-radius: 0.25em;background-color: #f0f8ff;}#sk-container-id-5 input.sk-toggleable__control:checked~div.sk-toggleable__content {max-height: 200px;max-width: 100%;overflow: auto;}#sk-container-id-5 input.sk-toggleable__control:checked~label.sk-toggleable__label-arrow:before {content: \"▾\";}#sk-container-id-5 div.sk-estimator input.sk-toggleable__control:checked~label.sk-toggleable__label {background-color: #d4ebff;}#sk-container-id-5 div.sk-label input.sk-toggleable__control:checked~label.sk-toggleable__label {background-color: #d4ebff;}#sk-container-id-5 input.sk-hidden--visually {border: 0;clip: rect(1px 1px 1px 1px);clip: rect(1px, 1px, 1px, 1px);height: 1px;margin: -1px;overflow: hidden;padding: 0;position: absolute;width: 1px;}#sk-container-id-5 div.sk-estimator {font-family: monospace;background-color: #f0f8ff;border: 1px dotted black;border-radius: 0.25em;box-sizing: border-box;margin-bottom: 0.5em;}#sk-container-id-5 div.sk-estimator:hover {background-color: #d4ebff;}#sk-container-id-5 div.sk-parallel-item::after {content: \"\";width: 100%;border-bottom: 1px solid gray;flex-grow: 1;}#sk-container-id-5 div.sk-label:hover label.sk-toggleable__label {background-color: #d4ebff;}#sk-container-id-5 div.sk-serial::before {content: \"\";position: absolute;border-left: 1px solid gray;box-sizing: border-box;top: 0;bottom: 0;left: 50%;z-index: 0;}#sk-container-id-5 div.sk-serial {display: flex;flex-direction: column;align-items: center;background-color: white;padding-right: 0.2em;padding-left: 0.2em;position: relative;}#sk-container-id-5 div.sk-item {position: relative;z-index: 1;}#sk-container-id-5 div.sk-parallel {display: flex;align-items: stretch;justify-content: center;background-color: white;position: relative;}#sk-container-id-5 div.sk-item::before, #sk-container-id-5 div.sk-parallel-item::before {content: \"\";position: absolute;border-left: 1px solid gray;box-sizing: border-box;top: 0;bottom: 0;left: 50%;z-index: -1;}#sk-container-id-5 div.sk-parallel-item {display: flex;flex-direction: column;z-index: 1;position: relative;background-color: white;}#sk-container-id-5 div.sk-parallel-item:first-child::after {align-self: flex-end;width: 50%;}#sk-container-id-5 div.sk-parallel-item:last-child::after {align-self: flex-start;width: 50%;}#sk-container-id-5 div.sk-parallel-item:only-child::after {width: 0;}#sk-container-id-5 div.sk-dashed-wrapped {border: 1px dashed gray;margin: 0 0.4em 0.5em 0.4em;box-sizing: border-box;padding-bottom: 0.4em;background-color: white;}#sk-container-id-5 div.sk-label label {font-family: monospace;font-weight: bold;display: inline-block;line-height: 1.2em;}#sk-container-id-5 div.sk-label-container {text-align: center;}#sk-container-id-5 div.sk-container {/* jupyter's `normalize.less` sets `[hidden] { display: none; }` but bootstrap.min.css set `[hidden] { display: none !important; }` so we also need the `!important` here to be able to override the default hidden behavior on the sphinx rendered scikit-learn.org. See: https://github.com/scikit-learn/scikit-learn/issues/21755 */display: inline-block !important;position: relative;}#sk-container-id-5 div.sk-text-repr-fallback {display: none;}</style><div id=\"sk-container-id-5\" class=\"sk-top-container\"><div class=\"sk-text-repr-fallback\"><pre>LogisticRegression()</pre><b>In a Jupyter environment, please rerun this cell to show the HTML representation or trust the notebook. <br />On GitHub, the HTML representation is unable to render, please try loading this page with nbviewer.org.</b></div><div class=\"sk-container\" hidden><div class=\"sk-item\"><div class=\"sk-estimator sk-toggleable\"><input class=\"sk-toggleable__control sk-hidden--visually\" id=\"sk-estimator-id-5\" type=\"checkbox\" checked><label for=\"sk-estimator-id-5\" class=\"sk-toggleable__label sk-toggleable__label-arrow\">LogisticRegression</label><div class=\"sk-toggleable__content\"><pre>LogisticRegression()</pre></div></div></div></div></div>"
      ],
      "text/plain": [
       "LogisticRegression()"
      ]
     },
     "execution_count": 43,
     "metadata": {},
     "output_type": "execute_result"
    }
   ],
   "source": [
    "model= LogisticRegression()\n",
    "model.fit(x_train_vector,ytrain)"
   ]
  },
  {
   "cell_type": "code",
   "execution_count": 44,
   "id": "13860d0f",
   "metadata": {},
   "outputs": [
    {
     "name": "stdout",
     "output_type": "stream",
     "text": [
      "AUC Score 0.5\n"
     ]
    }
   ],
   "source": [
    "prediction=model.predict(vect.transform(xtest))\n",
    "print(\"AUC Score\", roc_auc_score(ytest,prediction))"
   ]
  },
  {
   "cell_type": "code",
   "execution_count": 45,
   "id": "3da93538",
   "metadata": {},
   "outputs": [
    {
     "name": "stdout",
     "output_type": "stream",
     "text": [
      "smallest coeff: \n",
      "['is' 'the' 'didn' 'not' 'there' 'from' 'but' 'am' 'did' 'what']\n",
      "\n",
      "largest coeff: \n",
      "['read' 'great' 'like' 'and' 'enjoyed' 'love' 'characters' 'reading'\n",
      " 'their' 'his']\n",
      "\n"
     ]
    }
   ],
   "source": [
    "## get the feature store\n",
    "features= np.array(vect.get_feature_names_out())\n",
    "\n",
    "##sort the coeffecients of teh model\n",
    "sort= model.coef_[0].argsort()\n",
    "print('smallest coeff: \\n{}\\n'.format(features[sort[:10]]))\n",
    "print('largest coeff: \\n{}\\n'.format(features[sort[:-11:-1]]))"
   ]
  },
  {
   "cell_type": "markdown",
   "id": "305fc290",
   "metadata": {},
   "source": [
    "## n-grams"
   ]
  },
  {
   "cell_type": "code",
   "execution_count": 47,
   "id": "e9283a67",
   "metadata": {},
   "outputs": [
    {
     "data": {
      "text/plain": [
       "187"
      ]
     },
     "execution_count": 47,
     "metadata": {},
     "output_type": "execute_result"
    }
   ],
   "source": [
    "##fit the tfidf vectorixer to the training data specifying a minkimum documnet frequency of 5 \n",
    "## and extracting 1-grams and 2-grams\n",
    "\n",
    "vect= TfidfVectorizer(min_df=5, ngram_range=(1,2)).fit(xtrain)\n",
    "x_train_vector= vect.transform(xtrain)\n",
    "len(vect.get_feature_names_out())"
   ]
  },
  {
   "cell_type": "code",
   "execution_count": 49,
   "id": "a5087792",
   "metadata": {},
   "outputs": [
    {
     "name": "stdout",
     "output_type": "stream",
     "text": [
      "smallest coeff: \n",
      "['have read' 'of this' 'can' 'it would' 'or' 'feel' 'book' 'also' 'by'\n",
      " 'the first']\n",
      "\n",
      "largest coeff: \n",
      "['love' 'for the' 'his' 'am' 'couldn' 'in the' 'br' 'loved' 'on' 'good']\n",
      "\n"
     ]
    }
   ],
   "source": [
    "## get the feature store\n",
    "features= np.array(vect.get_feature_names_out())\n",
    "\n",
    "##sort the coeffecients of teh model\n",
    "sort= model.coef_[0].argsort()\n",
    "print('smallest coeff: \\n{}\\n'.format(features[sort[:10]]))\n",
    "print('largest coeff: \\n{}\\n'.format(features[sort[:-11:-1]]))"
   ]
  },
  {
   "cell_type": "markdown",
   "id": "51eb2218",
   "metadata": {},
   "source": [
    "## Text Classification"
   ]
  },
  {
   "cell_type": "code",
   "execution_count": 61,
   "id": "c20551e8",
   "metadata": {},
   "outputs": [
    {
     "data": {
      "text/plain": [
       "PositivelyRated\n",
       "0    18\n",
       "1    82\n",
       "dtype: int64"
      ]
     },
     "execution_count": 61,
     "metadata": {},
     "output_type": "execute_result"
    }
   ],
   "source": [
    "df.groupby('PositivelyRated').size()"
   ]
  },
  {
   "cell_type": "code",
   "execution_count": 62,
   "id": "f9229d77",
   "metadata": {},
   "outputs": [],
   "source": [
    "x=df.review_headline\n",
    "y=df.PositivelyRated\n"
   ]
  },
  {
   "cell_type": "code",
   "execution_count": 63,
   "id": "eb151221",
   "metadata": {},
   "outputs": [],
   "source": [
    "from sklearn.model_selection import train_test_split\n",
    "xtrain,xtest,ytrain,ytest=train_test_split(x,y,random_state=0)"
   ]
  },
  {
   "cell_type": "code",
   "execution_count": 65,
   "id": "3e19345b",
   "metadata": {},
   "outputs": [
    {
     "name": "stdout",
     "output_type": "stream",
     "text": [
      "Test has total 25 entries with 20.00% negative, 80.00% positive\n"
     ]
    }
   ],
   "source": [
    "print(\"Test has total {0} entries with {1:.2f}% negative, {2:.2f}% positive\".format(len(xtest),\n",
    "                                                                                 (len(xtest[ytest==0])/(len(xtest)*1.))*100,\n",
    "                                                                                   (len(xtest[ytest==1])/(len(xtest)*1.))*100))"
   ]
  },
  {
   "cell_type": "code",
   "execution_count": 67,
   "id": "0673982a",
   "metadata": {},
   "outputs": [
    {
     "name": "stdout",
     "output_type": "stream",
     "text": [
      "Train has total 75 entries with 17.33% negative, 82.67% positive\n"
     ]
    }
   ],
   "source": [
    "print(\"Train has total {0} entries with {1:.2f}% negative, {2:.2f}% positive\".format(len(xtrain),\n",
    "                                                                                 (len(xtrain[ytrain==0])/(len(xtrain)*1.))*100,\n",
    "                                                                                   (len(xtrain[ytrain==1])/(len(xtrain)*1.))*100))"
   ]
  },
  {
   "cell_type": "code",
   "execution_count": 120,
   "id": "1411b2c1",
   "metadata": {},
   "outputs": [],
   "source": [
    "from sklearn.feature_extraction.text import CountVectorizer\n",
    "from sklearn.ensemble import RandomForestClassifier\n",
    "from sklearn.pipeline import Pipeline\n",
    "from sklearn.metrics import accuracy_score\n"
   ]
  },
  {
   "cell_type": "code",
   "execution_count": 121,
   "id": "ddc66c5a",
   "metadata": {},
   "outputs": [],
   "source": [
    "def accuracy_summary(pipeline, xtrain, ytrain, xtest, ytest):\n",
    "    sentiment_fit = pipeline.fit(xtrain,ytrain)\n",
    "    ypred = sentiment_fit.predict(xtest)\n",
    "    accuracy = accuracy_score(ytest,ypred)\n",
    "    print(\"accuracy score: {0:.2f}%\".format(accuracy*100))\n",
    "    return accuracy"
   ]
  },
  {
   "cell_type": "code",
   "execution_count": 122,
   "id": "32d417f8",
   "metadata": {},
   "outputs": [],
   "source": [
    "cv=CountVectorizer()\n",
    "rf=RandomForestClassifier(class_weight=\"balanced\")\n",
    "n_features=np.arange(90,180,190)\n",
    "n_gram_range=(1,6)\n",
    "def nfeature_accuracy_checker(vectorizer=cv, n_features=n_features,stop_words=None, ngram_range=(1,1),classifier=rf):\n",
    "    result=[]\n",
    "    print(classifier)\n",
    "    print(\"\\n\")\n",
    "    for n in n_features:\n",
    "        vectorizer.set_params(stop_words=stop_words,max_features=n, ngram_range=ngram_range)\n",
    "        checker_pipeline=Pipeline([\n",
    "            ('vectorizer', vectorizer),\n",
    "            ('classifier', classifier)\n",
    "            ])\n",
    "        print(\"Test result for {} features\".format(n))\n",
    "        nfeatures_accuracy=accuracy_summary(checker_pipeline, xtrain, ytrain, xtest, ytest)\n",
    "        result.append((n,nfeatures_accuracy))\n",
    "    return result"
   ]
  },
  {
   "cell_type": "code",
   "execution_count": 123,
   "id": "9aa64fa9",
   "metadata": {},
   "outputs": [],
   "source": [
    "from sklearn.feature_extraction.text import TfidfVectorizer\n",
    "tfidf=TfidfVectorizer()"
   ]
  },
  {
   "cell_type": "code",
   "execution_count": 124,
   "id": "bbb4948d",
   "metadata": {},
   "outputs": [
    {
     "name": "stdout",
     "output_type": "stream",
     "text": [
      "RandomForestClassifier(class_weight='balanced')\n",
      "\n",
      "\n",
      "Test result for 90 features\n",
      "accuracy score: 84.00%\n"
     ]
    }
   ],
   "source": [
    "featureresults=nfeature_accuracy_checker(vectorizer=tfidf,ngram_range=(1,6))"
   ]
  },
  {
   "cell_type": "code",
   "execution_count": 133,
   "id": "3f86e5a2",
   "metadata": {},
   "outputs": [
    {
     "name": "stdout",
     "output_type": "stream",
     "text": [
      "              precision    recall  f1-score   support\n",
      "\n",
      "    negative       0.57      0.80      0.67         5\n",
      "    positive       0.94      0.85      0.89        20\n",
      "\n",
      "    accuracy                           0.84        25\n",
      "   macro avg       0.76      0.82      0.78        25\n",
      "weighted avg       0.87      0.84      0.85        25\n",
      "\n"
     ]
    }
   ],
   "source": [
    "from sklearn.metrics import classification_report\n",
    "cv=CountVectorizer(max_features=100,ngram_range=(1,6))\n",
    "pipeline=Pipeline([\n",
    "            ('vectorizer', cv),\n",
    "            ('classifier', rf)\n",
    "            ])\n",
    "sentiment_fit = pipeline.fit(xtrain,ytrain)\n",
    "ypred = sentiment_fit.predict(xtest)\n",
    "print(classification_report(ytest,ypred,target_names=['negative','positive']))"
   ]
  },
  {
   "cell_type": "markdown",
   "id": "419e2644",
   "metadata": {},
   "source": [
    "### Chi2 Features"
   ]
  },
  {
   "cell_type": "code",
   "execution_count": 135,
   "id": "548c01b6",
   "metadata": {},
   "outputs": [],
   "source": [
    "from sklearn.feature_selection import chi2\n",
    "tfidf=TfidfVectorizer(max_features=100,ngram_range=(1,6))\n",
    "xtfidf=tfidf.fit_transform(df.review_headline)\n",
    "y=df.PositivelyRated\n",
    "chi2score=chi2(xtfidf,y)[0]\n"
   ]
  },
  {
   "cell_type": "code",
   "execution_count": 136,
   "id": "5dedd073",
   "metadata": {},
   "outputs": [
    {
     "data": {
      "text/plain": [
       "array([0.21885419, 0.59468361, 0.55241527, 0.35144802, 0.19204425,\n",
       "       0.23813847, 0.40280925, 0.1497449 , 0.7579734 , 0.10307718,\n",
       "       0.20736831, 6.61489099, 0.32070113, 0.18053024, 0.6142272 ,\n",
       "       1.38753388, 0.33952243, 0.46385951, 0.29784425, 0.89462577,\n",
       "       0.412832  , 0.18743659, 0.3837399 , 0.34712674, 0.18422451,\n",
       "       0.18422451, 0.29691305, 0.33211788, 0.56965757, 0.37882528,\n",
       "       0.24094641, 0.18422451, 0.48332524, 0.38915607, 0.72551391,\n",
       "       0.351638  , 2.47934211, 1.76532645, 5.17644299, 4.34117632,\n",
       "       0.31616739, 2.24421026, 0.13154724, 0.13521697, 0.08625679,\n",
       "       0.08625679, 0.08625679, 0.08625679, 0.08625679, 1.15277793,\n",
       "       0.09688077, 0.09688077, 0.2195122 , 0.06596068, 1.91078617,\n",
       "       1.91078617, 1.91078617, 1.91078617, 0.2195122 , 0.2195122 ,\n",
       "       1.23933189, 0.11809273, 0.11809273, 0.08873117, 0.08873117,\n",
       "       0.83298753, 2.01472084, 2.01472084, 2.01472084, 0.09688077,\n",
       "       0.20189483, 0.13730959, 0.13730959, 3.53331779, 0.06596068,\n",
       "       0.06596068, 0.06596068, 0.06596068, 0.06596068, 0.06596068,\n",
       "       2.52596262, 0.92453514, 0.01256256, 0.25840803, 0.29808288,\n",
       "       0.63090569, 0.25668721, 0.00896791, 0.23362272, 0.19497091,\n",
       "       0.45933825, 0.29316083, 0.23719549, 0.09998582, 0.38101398,\n",
       "       0.18422451, 0.06281742, 0.25653712, 2.30555586, 2.30555586])"
      ]
     },
     "execution_count": 136,
     "metadata": {},
     "output_type": "execute_result"
    }
   ],
   "source": [
    "chi2score"
   ]
  },
  {
   "cell_type": "code",
   "execution_count": 140,
   "id": "a8c5d3a6",
   "metadata": {},
   "outputs": [
    {
     "data": {
      "text/plain": [
       "[('page',\n",
       "  'read',\n",
       "  'free',\n",
       "  'no',\n",
       "  'pretty',\n",
       "  'pretty much',\n",
       "  'pretty much hot',\n",
       "  'pretty much hot mess',\n",
       "  'really',\n",
       "  'really say how',\n",
       "  'say how to be',\n",
       "  'of women',\n",
       "  'you',\n",
       "  'you can',\n",
       "  'my',\n",
       "  'so',\n",
       "  'shoes',\n",
       "  'not my',\n",
       "  'not',\n",
       "  'didn'),\n",
       " (1.1527779297268488,\n",
       "  1.2393318916663338,\n",
       "  1.3875338753387534,\n",
       "  1.7653264523972967,\n",
       "  1.9107861715349126,\n",
       "  1.9107861715349126,\n",
       "  1.9107861715349126,\n",
       "  1.9107861715349126,\n",
       "  2.0147208410393125,\n",
       "  2.0147208410393125,\n",
       "  2.0147208410393125,\n",
       "  2.2442102606558008,\n",
       "  2.3055558594536976,\n",
       "  2.3055558594536976,\n",
       "  2.47934211211834,\n",
       "  2.525962621599855,\n",
       "  3.533317792019266,\n",
       "  4.34117632322197,\n",
       "  5.176442993293725,\n",
       "  6.614890991870729)]"
      ]
     },
     "execution_count": 140,
     "metadata": {},
     "output_type": "execute_result"
    },
    {
     "data": {
      "text/plain": [
       "<Figure size 1200x800 with 0 Axes>"
      ]
     },
     "metadata": {},
     "output_type": "display_data"
    }
   ],
   "source": [
    "import matplotlib.pyplot as plt\n",
    "%matplotlib inline\n",
    "\n",
    "plt.figure(figsize=(12,8))\n",
    "scores=list(zip(tfidf.get_feature_names_out(),chi2score))\n",
    "chi2=sorted(scores,key=lambda x:x[1])\n",
    "topchi2=list(zip(*chi2[-20:]))\n",
    "topchi2"
   ]
  },
  {
   "cell_type": "code",
   "execution_count": 146,
   "id": "11320042",
   "metadata": {},
   "outputs": [
    {
     "data": {
      "text/plain": [
       "range(0, 20)"
      ]
     },
     "execution_count": 146,
     "metadata": {},
     "output_type": "execute_result"
    }
   ],
   "source": [
    "x=range(len(topchi2[0]))\n",
    "x"
   ]
  },
  {
   "cell_type": "code",
   "execution_count": 142,
   "id": "f0fb9195",
   "metadata": {},
   "outputs": [
    {
     "data": {
      "text/plain": [
       "('page',\n",
       " 'read',\n",
       " 'free',\n",
       " 'no',\n",
       " 'pretty',\n",
       " 'pretty much',\n",
       " 'pretty much hot',\n",
       " 'pretty much hot mess',\n",
       " 'really',\n",
       " 'really say how',\n",
       " 'say how to be',\n",
       " 'of women',\n",
       " 'you',\n",
       " 'you can',\n",
       " 'my',\n",
       " 'so',\n",
       " 'shoes',\n",
       " 'not my',\n",
       " 'not',\n",
       " 'didn')"
      ]
     },
     "execution_count": 142,
     "metadata": {},
     "output_type": "execute_result"
    }
   ],
   "source": [
    "labels=topchi2[0]\n",
    "labels"
   ]
  },
  {
   "cell_type": "code",
   "execution_count": 159,
   "id": "4b3a91a1",
   "metadata": {},
   "outputs": [
    {
     "data": {
      "image/png": "[encoded data removed]",
      "text/plain": [
       "<Figure size 640x480 with 1 Axes>"
      ]
     },
     "metadata": {},
     "output_type": "display_data"
    }
   ],
   "source": [
    "plt.barh(x,topchi2[1],align='center',alpha=0.5)\n",
    "plt.plot(topchi2[1],x, markersize=5,alpha=0.8)\n",
    "plt.yticks(x,labels)\n",
    "plt.xlabel('$x^2$')\n",
    "plt.show()"
   ]
  },
  {
   "cell_type": "code",
   "execution_count": 157,
   "id": "1411822c",
   "metadata": {},
   "outputs": [
    {
     "data": {
      "image/png": "[encoded data removed]",
      "text/plain": [
       "<Figure size 640x480 with 1 Axes>"
      ]
     },
     "metadata": {},
     "output_type": "display_data"
    }
   ],
   "source": [
    "plt.barh(x,topchi2[1],align='center',alpha=0.5)\n",
    "plt.plot(topchi2[1],x,'-o', markersize=5,alpha=0.8)\n",
    "plt.yticks(x,labels)\n",
    "plt.xlabel('$\\chi^2$')\n",
    "plt.show()"
   ]
  },
  {
   "cell_type": "code",
   "execution_count": null,
   "id": "dca0f233",
   "metadata": {},
   "outputs": [],
   "source": []
  }
 ],
 "metadata": {
  "kernelspec": {
   "display_name": "Python 3 (ipykernel)",
   "language": "python",
   "name": "python3"
  },
  "language_info": {
   "codemirror_mode": {
    "name": "ipython",
    "version": 3
   },
   "file_extension": ".py",
   "mimetype": "text/x-python",
   "name": "python",
   "nbconvert_exporter": "python",
   "pygments_lexer": "ipython3",
   "version": "3.9.13"
  }
 },
 "nbformat": 4,
 "nbformat_minor": 5
}
